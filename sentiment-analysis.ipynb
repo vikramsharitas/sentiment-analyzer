{
 "cells": [
  {
   "cell_type": "markdown",
   "id": "f7a8ee2f",
   "metadata": {
    "id": "eKIPZO6C6yLT",
    "papermill": {
     "duration": 0.022128,
     "end_time": "2021-09-30T08:46:40.521234",
     "exception": false,
     "start_time": "2021-09-30T08:46:40.499106",
     "status": "completed"
    },
    "tags": []
   },
   "source": [
    "# For Kaggle & Colab"
   ]
  },
  {
   "cell_type": "code",
   "execution_count": 1,
   "id": "900dc63d",
   "metadata": {
    "execution": {
     "iopub.execute_input": "2021-09-30T08:46:40.587044Z",
     "iopub.status.busy": "2021-09-30T08:46:40.576296Z",
     "iopub.status.idle": "2021-09-30T08:47:00.719856Z",
     "shell.execute_reply": "2021-09-30T08:47:00.720530Z",
     "shell.execute_reply.started": "2021-09-30T08:31:43.036489Z"
    },
    "id": "GNmQzAxd7Lz1",
    "outputId": "89f3c5d5-831d-4dcd-e340-761965ac7d55",
    "papermill": {
     "duration": 20.179,
     "end_time": "2021-09-30T08:47:00.721625",
     "exception": false,
     "start_time": "2021-09-30T08:46:40.542625",
     "status": "completed"
    },
    "tags": []
   },
   "outputs": [
    {
     "name": "stdout",
     "output_type": "stream",
     "text": [
      "Collecting gdown\r\n",
      "  Downloading gdown-3.14.0.tar.gz (10 kB)\r\n",
      "  Installing build dependencies ... \u001b[?25l-\b \b\\\b \b|\b \b/\b \b-\b \bdone\r\n",
      "\u001b[?25h  Getting requirements to build wheel ... \u001b[?25l-\b \bdone\r\n",
      "\u001b[?25h    Preparing wheel metadata ... \u001b[?25l-\b \bdone\r\n",
      "\u001b[?25hRequirement already satisfied: six in /opt/conda/lib/python3.7/site-packages (from gdown) (1.15.0)\r\n",
      "Requirement already satisfied: tqdm in /opt/conda/lib/python3.7/site-packages (from gdown) (4.61.1)\r\n",
      "Requirement already satisfied: filelock in /opt/conda/lib/python3.7/site-packages (from gdown) (3.0.12)\r\n",
      "Requirement already satisfied: requests[socks]>=2.12.0 in /opt/conda/lib/python3.7/site-packages (from gdown) (2.25.1)\r\n",
      "Requirement already satisfied: idna<3,>=2.5 in /opt/conda/lib/python3.7/site-packages (from requests[socks]>=2.12.0->gdown) (2.10)\r\n",
      "Requirement already satisfied: chardet<5,>=3.0.2 in /opt/conda/lib/python3.7/site-packages (from requests[socks]>=2.12.0->gdown) (4.0.0)\r\n",
      "Requirement already satisfied: certifi>=2017.4.17 in /opt/conda/lib/python3.7/site-packages (from requests[socks]>=2.12.0->gdown) (2021.5.30)\r\n",
      "Requirement already satisfied: urllib3<1.27,>=1.21.1 in /opt/conda/lib/python3.7/site-packages (from requests[socks]>=2.12.0->gdown) (1.26.5)\r\n",
      "Requirement already satisfied: PySocks!=1.5.7,>=1.5.6 in /opt/conda/lib/python3.7/site-packages (from requests[socks]>=2.12.0->gdown) (1.7.1)\r\n",
      "Building wheels for collected packages: gdown\r\n",
      "  Building wheel for gdown (PEP 517) ... \u001b[?25l-\b \bdone\r\n",
      "\u001b[?25h  Created wheel for gdown: filename=gdown-3.14.0-py3-none-any.whl size=10044 sha256=aadb3f7c8726f44a483763054ea532189084479db5eef91d83aa033e773e0ad6\r\n",
      "  Stored in directory: /root/.cache/pip/wheels/ee/cf/ac/e3ff09ceeea4bf7ff64b04de426caf3a8d0d1a299346ca54fd\r\n",
      "Successfully built gdown\r\n",
      "Installing collected packages: gdown\r\n",
      "Successfully installed gdown-3.14.0\r\n",
      "\u001b[33mWARNING: Running pip as root will break packages and permissions. You should install packages reliably by using venv: https://pip.pypa.io/warnings/venv\u001b[0m\r\n",
      "Downloading...\r\n",
      "From: https://drive.google.com/uc?id=1dhyuRqNWLP0a7KGor3Tc0VuMzIgs1DZ-\r\n",
      "To: /kaggle/working/Dataset/twitter.csv\r\n",
      "136MB [00:00, 194MB/s]\r\n"
     ]
    }
   ],
   "source": [
    "!pip install gdown\n",
    "!mkdir Dataset\n",
    "!gdown --id 1dhyuRqNWLP0a7KGor3Tc0VuMzIgs1DZ- -O ./Dataset/twitter.csv"
   ]
  },
  {
   "cell_type": "markdown",
   "id": "d7216c2c",
   "metadata": {
    "id": "6zFlROur6OCD",
    "papermill": {
     "duration": 0.027103,
     "end_time": "2021-09-30T08:47:00.778471",
     "exception": false,
     "start_time": "2021-09-30T08:47:00.751368",
     "status": "completed"
    },
    "tags": []
   },
   "source": [
    "# Imports"
   ]
  },
  {
   "cell_type": "code",
   "execution_count": 2,
   "id": "1f7f285f",
   "metadata": {
    "execution": {
     "iopub.execute_input": "2021-09-30T08:47:00.839725Z",
     "iopub.status.busy": "2021-09-30T08:47:00.838810Z",
     "iopub.status.idle": "2021-09-30T08:47:05.488467Z",
     "shell.execute_reply": "2021-09-30T08:47:05.487949Z",
     "shell.execute_reply.started": "2021-09-30T08:43:48.422159Z"
    },
    "id": "vDiQ_yWW6OCF",
    "papermill": {
     "duration": 4.682542,
     "end_time": "2021-09-30T08:47:05.488613",
     "exception": false,
     "start_time": "2021-09-30T08:47:00.806071",
     "status": "completed"
    },
    "tags": []
   },
   "outputs": [],
   "source": [
    "import re\n",
    "import pickle\n",
    "import numpy as np\n",
    "import pandas as pd\n",
    "import matplotlib.pyplot as plt\n",
    "\n",
    "import tensorflow as tf\n",
    "from tensorflow import keras\n",
    "from tensorflow.keras import layers\n",
    "from tensorflow.keras.models import Sequential\n",
    "\n",
    "from tensorflow.keras.preprocessing.text import Tokenizer\n",
    "from tensorflow.keras.preprocessing.sequence import pad_sequences"
   ]
  },
  {
   "cell_type": "markdown",
   "id": "54279576",
   "metadata": {
    "id": "X1h9Bnne6OCI",
    "papermill": {
     "duration": 0.027216,
     "end_time": "2021-09-30T08:47:05.544632",
     "exception": false,
     "start_time": "2021-09-30T08:47:05.517416",
     "status": "completed"
    },
    "tags": []
   },
   "source": [
    "# Get Data"
   ]
  },
  {
   "cell_type": "code",
   "execution_count": 3,
   "id": "1b0b8788",
   "metadata": {
    "execution": {
     "iopub.execute_input": "2021-09-30T08:47:05.603995Z",
     "iopub.status.busy": "2021-09-30T08:47:05.603393Z",
     "iopub.status.idle": "2021-09-30T08:47:05.607781Z",
     "shell.execute_reply": "2021-09-30T08:47:05.607331Z",
     "shell.execute_reply.started": "2021-09-30T08:32:06.768991Z"
    },
    "id": "ZFeuDcHL6OCI",
    "papermill": {
     "duration": 0.035185,
     "end_time": "2021-09-30T08:47:05.607898",
     "exception": false,
     "start_time": "2021-09-30T08:47:05.572713",
     "status": "completed"
    },
    "tags": []
   },
   "outputs": [],
   "source": [
    "# DATASET_COLUMNS=['target', 'id', 'date', 'flag', 'user','text']\n",
    "# DATASET_ENCODING = \"ISO-8859-1\"\n",
    "# df = pd.read_csv(\"./Dataset/tweets.csv\", encoding=DATASET_ENCODING, names=DATASET_COLUMNS)\n",
    "# df = df[['text', 'target']]\n",
    "# # df['text'] = df['text'].apply((lambda x: re.sub('[^a-zA-z0-9\\s]','',x)))\n",
    "# df.to_csv('./Dataset/twitter.csv')"
   ]
  },
  {
   "cell_type": "code",
   "execution_count": 4,
   "id": "db562408",
   "metadata": {
    "execution": {
     "iopub.execute_input": "2021-09-30T08:47:05.669704Z",
     "iopub.status.busy": "2021-09-30T08:47:05.668864Z",
     "iopub.status.idle": "2021-09-30T08:47:07.727949Z",
     "shell.execute_reply": "2021-09-30T08:47:07.728397Z",
     "shell.execute_reply.started": "2021-09-30T08:32:06.773840Z"
    },
    "id": "7Yo2Piah6OCJ",
    "outputId": "03c459e7-6ca4-4ea9-af6d-b1a67149018a",
    "papermill": {
     "duration": 2.091694,
     "end_time": "2021-09-30T08:47:07.728546",
     "exception": false,
     "start_time": "2021-09-30T08:47:05.636852",
     "status": "completed"
    },
    "tags": []
   },
   "outputs": [
    {
     "name": "stderr",
     "output_type": "stream",
     "text": [
      "/opt/conda/lib/python3.7/site-packages/numpy/lib/arraysetops.py:580: FutureWarning: elementwise comparison failed; returning scalar instead, but in the future will perform elementwise comparison\n",
      "  mask |= (ar1 == a)\n"
     ]
    }
   ],
   "source": [
    "df = pd.read_csv('./Dataset/twitter.csv', index_col=0)"
   ]
  },
  {
   "cell_type": "code",
   "execution_count": 5,
   "id": "a0069e7c",
   "metadata": {
    "execution": {
     "iopub.execute_input": "2021-09-30T08:47:07.793306Z",
     "iopub.status.busy": "2021-09-30T08:47:07.792543Z",
     "iopub.status.idle": "2021-09-30T08:47:07.806370Z",
     "shell.execute_reply": "2021-09-30T08:47:07.806802Z",
     "shell.execute_reply.started": "2021-09-30T08:32:08.898977Z"
    },
    "id": "wkaI4GbY6OCK",
    "outputId": "957077cb-39d0-4dad-91a5-5ec3f65cc48f",
    "papermill": {
     "duration": 0.049747,
     "end_time": "2021-09-30T08:47:07.806941",
     "exception": false,
     "start_time": "2021-09-30T08:47:07.757194",
     "status": "completed"
    },
    "tags": []
   },
   "outputs": [
    {
     "data": {
      "text/html": [
       "<div>\n",
       "<style scoped>\n",
       "    .dataframe tbody tr th:only-of-type {\n",
       "        vertical-align: middle;\n",
       "    }\n",
       "\n",
       "    .dataframe tbody tr th {\n",
       "        vertical-align: top;\n",
       "    }\n",
       "\n",
       "    .dataframe thead th {\n",
       "        text-align: right;\n",
       "    }\n",
       "</style>\n",
       "<table border=\"1\" class=\"dataframe\">\n",
       "  <thead>\n",
       "    <tr style=\"text-align: right;\">\n",
       "      <th></th>\n",
       "      <th>text</th>\n",
       "      <th>target</th>\n",
       "    </tr>\n",
       "  </thead>\n",
       "  <tbody>\n",
       "    <tr>\n",
       "      <th>0</th>\n",
       "      <td>@switchfoot http://twitpic.com/2y1zl - Awww, t...</td>\n",
       "      <td>0</td>\n",
       "    </tr>\n",
       "    <tr>\n",
       "      <th>1</th>\n",
       "      <td>is upset that he can't update his Facebook by ...</td>\n",
       "      <td>0</td>\n",
       "    </tr>\n",
       "    <tr>\n",
       "      <th>2</th>\n",
       "      <td>@Kenichan I dived many times for the ball. Man...</td>\n",
       "      <td>0</td>\n",
       "    </tr>\n",
       "    <tr>\n",
       "      <th>3</th>\n",
       "      <td>my whole body feels itchy and like its on fire</td>\n",
       "      <td>0</td>\n",
       "    </tr>\n",
       "    <tr>\n",
       "      <th>4</th>\n",
       "      <td>@nationwideclass no, it's not behaving at all....</td>\n",
       "      <td>0</td>\n",
       "    </tr>\n",
       "    <tr>\n",
       "      <th>...</th>\n",
       "      <td>...</td>\n",
       "      <td>...</td>\n",
       "    </tr>\n",
       "    <tr>\n",
       "      <th>1599995</th>\n",
       "      <td>Just woke up. Having no school is the best fee...</td>\n",
       "      <td>4</td>\n",
       "    </tr>\n",
       "    <tr>\n",
       "      <th>1599996</th>\n",
       "      <td>TheWDB.com - Very cool to hear old Walt interv...</td>\n",
       "      <td>4</td>\n",
       "    </tr>\n",
       "    <tr>\n",
       "      <th>1599997</th>\n",
       "      <td>Are you ready for your MoJo Makeover? Ask me f...</td>\n",
       "      <td>4</td>\n",
       "    </tr>\n",
       "    <tr>\n",
       "      <th>1599998</th>\n",
       "      <td>Happy 38th Birthday to my boo of alll time!!! ...</td>\n",
       "      <td>4</td>\n",
       "    </tr>\n",
       "    <tr>\n",
       "      <th>1599999</th>\n",
       "      <td>happy #charitytuesday @theNSPCC @SparksCharity...</td>\n",
       "      <td>4</td>\n",
       "    </tr>\n",
       "  </tbody>\n",
       "</table>\n",
       "<p>1600000 rows × 2 columns</p>\n",
       "</div>"
      ],
      "text/plain": [
       "                                                      text  target\n",
       "0        @switchfoot http://twitpic.com/2y1zl - Awww, t...       0\n",
       "1        is upset that he can't update his Facebook by ...       0\n",
       "2        @Kenichan I dived many times for the ball. Man...       0\n",
       "3          my whole body feels itchy and like its on fire        0\n",
       "4        @nationwideclass no, it's not behaving at all....       0\n",
       "...                                                    ...     ...\n",
       "1599995  Just woke up. Having no school is the best fee...       4\n",
       "1599996  TheWDB.com - Very cool to hear old Walt interv...       4\n",
       "1599997  Are you ready for your MoJo Makeover? Ask me f...       4\n",
       "1599998  Happy 38th Birthday to my boo of alll time!!! ...       4\n",
       "1599999  happy #charitytuesday @theNSPCC @SparksCharity...       4\n",
       "\n",
       "[1600000 rows x 2 columns]"
      ]
     },
     "execution_count": 5,
     "metadata": {},
     "output_type": "execute_result"
    }
   ],
   "source": [
    "df"
   ]
  },
  {
   "cell_type": "markdown",
   "id": "bc5a734e",
   "metadata": {
    "id": "kYpKlrv26OCK",
    "papermill": {
     "duration": 0.028333,
     "end_time": "2021-09-30T08:47:07.863618",
     "exception": false,
     "start_time": "2021-09-30T08:47:07.835285",
     "status": "completed"
    },
    "tags": []
   },
   "source": [
    "# Data Preprocessing"
   ]
  },
  {
   "cell_type": "code",
   "execution_count": 6,
   "id": "bd6f97ae",
   "metadata": {
    "execution": {
     "iopub.execute_input": "2021-09-30T08:47:07.925182Z",
     "iopub.status.busy": "2021-09-30T08:47:07.924644Z",
     "iopub.status.idle": "2021-09-30T08:47:07.927892Z",
     "shell.execute_reply": "2021-09-30T08:47:07.928719Z",
     "shell.execute_reply.started": "2021-09-30T08:32:08.928376Z"
    },
    "id": "JRaKgFiT6OCL",
    "papermill": {
     "duration": 0.036623,
     "end_time": "2021-09-30T08:47:07.928897",
     "exception": false,
     "start_time": "2021-09-30T08:47:07.892274",
     "status": "completed"
    },
    "tags": []
   },
   "outputs": [],
   "source": [
    "def remove_mentions(text):\n",
    "    return ' '.join(word for word in text.split(' ') if not  word.startswith('http'))"
   ]
  },
  {
   "cell_type": "code",
   "execution_count": 7,
   "id": "3faeac74",
   "metadata": {
    "execution": {
     "iopub.execute_input": "2021-09-30T08:47:07.993656Z",
     "iopub.status.busy": "2021-09-30T08:47:07.992854Z",
     "iopub.status.idle": "2021-09-30T08:47:42.430766Z",
     "shell.execute_reply": "2021-09-30T08:47:42.431224Z",
     "shell.execute_reply.started": "2021-09-30T08:32:08.935086Z"
    },
    "id": "YP5recsa6OCL",
    "outputId": "2609531f-adde-49bf-c9ca-05419d6ce5cf",
    "papermill": {
     "duration": 34.474655,
     "end_time": "2021-09-30T08:47:42.431377",
     "exception": false,
     "start_time": "2021-09-30T08:47:07.956722",
     "status": "completed"
    },
    "tags": []
   },
   "outputs": [
    {
     "data": {
      "text/html": [
       "<div>\n",
       "<style scoped>\n",
       "    .dataframe tbody tr th:only-of-type {\n",
       "        vertical-align: middle;\n",
       "    }\n",
       "\n",
       "    .dataframe tbody tr th {\n",
       "        vertical-align: top;\n",
       "    }\n",
       "\n",
       "    .dataframe thead th {\n",
       "        text-align: right;\n",
       "    }\n",
       "</style>\n",
       "<table border=\"1\" class=\"dataframe\">\n",
       "  <thead>\n",
       "    <tr style=\"text-align: right;\">\n",
       "      <th></th>\n",
       "      <th>text</th>\n",
       "      <th>target</th>\n",
       "    </tr>\n",
       "  </thead>\n",
       "  <tbody>\n",
       "    <tr>\n",
       "      <th>0</th>\n",
       "      <td>switchfoot Awww that s a bummer You shoulda go...</td>\n",
       "      <td>0</td>\n",
       "    </tr>\n",
       "    <tr>\n",
       "      <th>1</th>\n",
       "      <td>is upset that he can t update his Facebook by ...</td>\n",
       "      <td>0</td>\n",
       "    </tr>\n",
       "    <tr>\n",
       "      <th>2</th>\n",
       "      <td>Kenichan I dived many times for the ball Manag...</td>\n",
       "      <td>0</td>\n",
       "    </tr>\n",
       "    <tr>\n",
       "      <th>3</th>\n",
       "      <td>my whole body feels itchy and like its on fire</td>\n",
       "      <td>0</td>\n",
       "    </tr>\n",
       "    <tr>\n",
       "      <th>4</th>\n",
       "      <td>nationwideclass no it s not behaving at all i ...</td>\n",
       "      <td>0</td>\n",
       "    </tr>\n",
       "    <tr>\n",
       "      <th>...</th>\n",
       "      <td>...</td>\n",
       "      <td>...</td>\n",
       "    </tr>\n",
       "    <tr>\n",
       "      <th>1599995</th>\n",
       "      <td>Just woke up Having no school is the best feel...</td>\n",
       "      <td>1</td>\n",
       "    </tr>\n",
       "    <tr>\n",
       "      <th>1599996</th>\n",
       "      <td>TheWDB com Very cool to hear old Walt interviews</td>\n",
       "      <td>1</td>\n",
       "    </tr>\n",
       "    <tr>\n",
       "      <th>1599997</th>\n",
       "      <td>Are you ready for your MoJo Makeover Ask me fo...</td>\n",
       "      <td>1</td>\n",
       "    </tr>\n",
       "    <tr>\n",
       "      <th>1599998</th>\n",
       "      <td>Happy 38th Birthday to my boo of alll time Tup...</td>\n",
       "      <td>1</td>\n",
       "    </tr>\n",
       "    <tr>\n",
       "      <th>1599999</th>\n",
       "      <td>happy charitytuesday theNSPCC SparksCharity Sp...</td>\n",
       "      <td>1</td>\n",
       "    </tr>\n",
       "  </tbody>\n",
       "</table>\n",
       "<p>1600000 rows × 2 columns</p>\n",
       "</div>"
      ],
      "text/plain": [
       "                                                      text  target\n",
       "0        switchfoot Awww that s a bummer You shoulda go...       0\n",
       "1        is upset that he can t update his Facebook by ...       0\n",
       "2        Kenichan I dived many times for the ball Manag...       0\n",
       "3          my whole body feels itchy and like its on fire        0\n",
       "4        nationwideclass no it s not behaving at all i ...       0\n",
       "...                                                    ...     ...\n",
       "1599995  Just woke up Having no school is the best feel...       1\n",
       "1599996  TheWDB com Very cool to hear old Walt interviews        1\n",
       "1599997  Are you ready for your MoJo Makeover Ask me fo...       1\n",
       "1599998  Happy 38th Birthday to my boo of alll time Tup...       1\n",
       "1599999  happy charitytuesday theNSPCC SparksCharity Sp...       1\n",
       "\n",
       "[1600000 rows x 2 columns]"
      ]
     },
     "execution_count": 7,
     "metadata": {},
     "output_type": "execute_result"
    }
   ],
   "source": [
    "text = df['text'].apply((lambda x: re.sub('@', '', x))).apply((lambda x: re.sub('#', '', x))).apply((lambda x: re.sub('&', ' and ', x))).apply(remove_mentions).apply((lambda x: re.sub('[^a-zA-z0-9\\s]',' ',x))).apply((lambda x: re.sub('\\s+', ' ', x)))\n",
    "df['text'] = text\n",
    "df['target'] = df['target'].replace(4,1)\n",
    "df"
   ]
  },
  {
   "cell_type": "markdown",
   "id": "34245248",
   "metadata": {
    "id": "FLt7MwjN6OCM",
    "papermill": {
     "duration": 0.029068,
     "end_time": "2021-09-30T08:47:42.489666",
     "exception": false,
     "start_time": "2021-09-30T08:47:42.460598",
     "status": "completed"
    },
    "tags": []
   },
   "source": [
    "# Data Visualization"
   ]
  },
  {
   "cell_type": "code",
   "execution_count": 8,
   "id": "d1fa6aa7",
   "metadata": {
    "execution": {
     "iopub.execute_input": "2021-09-30T08:47:42.555214Z",
     "iopub.status.busy": "2021-09-30T08:47:42.554045Z",
     "iopub.status.idle": "2021-09-30T08:47:42.720939Z",
     "shell.execute_reply": "2021-09-30T08:47:42.721362Z",
     "shell.execute_reply.started": "2021-09-30T08:32:42.451265Z"
    },
    "id": "wjxMFBpn6OCM",
    "outputId": "97d01809-83de-4461-db80-8f99bc26bceb",
    "papermill": {
     "duration": 0.203625,
     "end_time": "2021-09-30T08:47:42.721507",
     "exception": false,
     "start_time": "2021-09-30T08:47:42.517882",
     "status": "completed"
    },
    "tags": []
   },
   "outputs": [
    {
     "data": {
      "text/plain": [
       "<BarContainer object of 2 artists>"
      ]
     },
     "execution_count": 8,
     "metadata": {},
     "output_type": "execute_result"
    },
    {
     "data": {
      "image/png": "[encoded data removed]",
      "text/plain": [
       "<Figure size 432x288 with 1 Axes>"
      ]
     },
     "metadata": {
      "needs_background": "light"
     },
     "output_type": "display_data"
    }
   ],
   "source": [
    "target = df['target'].to_numpy()\n",
    "uniq, cnts = np.unique(target, return_counts=True)\n",
    "uniq = [str(i) for i in uniq]\n",
    "plt.bar(uniq, cnts)"
   ]
  },
  {
   "cell_type": "markdown",
   "id": "226f8df5",
   "metadata": {
    "id": "pswZB9ZN6OCM",
    "papermill": {
     "duration": 0.030628,
     "end_time": "2021-09-30T08:47:42.782871",
     "exception": false,
     "start_time": "2021-09-30T08:47:42.752243",
     "status": "completed"
    },
    "tags": []
   },
   "source": [
    "# Shuffle & Split Data"
   ]
  },
  {
   "cell_type": "code",
   "execution_count": 9,
   "id": "0a664736",
   "metadata": {
    "execution": {
     "iopub.execute_input": "2021-09-30T08:47:42.851714Z",
     "iopub.status.busy": "2021-09-30T08:47:42.850358Z",
     "iopub.status.idle": "2021-09-30T08:47:45.659721Z",
     "shell.execute_reply": "2021-09-30T08:47:45.659279Z",
     "shell.execute_reply.started": "2021-09-30T08:32:42.611241Z"
    },
    "id": "IlF5uAGu6OCM",
    "outputId": "f15fbc06-ed40-418b-dd7c-577f4f5fb3b7",
    "papermill": {
     "duration": 2.845798,
     "end_time": "2021-09-30T08:47:45.659874",
     "exception": false,
     "start_time": "2021-09-30T08:47:42.814076",
     "status": "completed"
    },
    "tags": []
   },
   "outputs": [
    {
     "data": {
      "text/plain": [
       "((1120000, 2), (480000, 2))"
      ]
     },
     "execution_count": 9,
     "metadata": {},
     "output_type": "execute_result"
    }
   ],
   "source": [
    "train = np.concatenate((df.text.to_numpy().reshape(-1, 1), df.target.to_numpy().reshape(-1, 1)), axis=-1)\n",
    "np.random.shuffle(train)\n",
    "val = train[int(0.7*train.shape[0]):, :]\n",
    "train = train[:int(0.7*train.shape[0]), :]\n",
    "train.shape, val.shape"
   ]
  },
  {
   "cell_type": "markdown",
   "id": "7c3841f6",
   "metadata": {
    "papermill": {
     "duration": 0.029448,
     "end_time": "2021-09-30T08:47:45.719845",
     "exception": false,
     "start_time": "2021-09-30T08:47:45.690397",
     "status": "completed"
    },
    "tags": []
   },
   "source": [
    "# Tokenize Data"
   ]
  },
  {
   "cell_type": "markdown",
   "id": "346c51a1",
   "metadata": {
    "papermill": {
     "duration": 0.029556,
     "end_time": "2021-09-30T08:47:45.779229",
     "exception": false,
     "start_time": "2021-09-30T08:47:45.749673",
     "status": "completed"
    },
    "tags": []
   },
   "source": [
    "## Initialize & Fit Tokenizer"
   ]
  },
  {
   "cell_type": "code",
   "execution_count": 10,
   "id": "163e2b29",
   "metadata": {
    "execution": {
     "iopub.execute_input": "2021-09-30T08:47:45.893535Z",
     "iopub.status.busy": "2021-09-30T08:47:45.862812Z",
     "iopub.status.idle": "2021-09-30T08:48:07.702028Z",
     "shell.execute_reply": "2021-09-30T08:48:07.702444Z",
     "shell.execute_reply.started": "2021-09-30T08:32:44.929050Z"
    },
    "id": "7lCcBRFM6OCN",
    "papermill": {
     "duration": 21.892624,
     "end_time": "2021-09-30T08:48:07.702625",
     "exception": false,
     "start_time": "2021-09-30T08:47:45.810001",
     "status": "completed"
    },
    "tags": []
   },
   "outputs": [],
   "source": [
    "tokenizer = Tokenizer(oov_token=\"<OOV>\")\n",
    "tokenizer = Tokenizer()\n",
    "tokenizer.fit_on_texts(train[:, 0])"
   ]
  },
  {
   "cell_type": "markdown",
   "id": "a211c1e4",
   "metadata": {
    "papermill": {
     "duration": 0.031108,
     "end_time": "2021-09-30T08:48:07.764535",
     "exception": false,
     "start_time": "2021-09-30T08:48:07.733427",
     "status": "completed"
    },
    "tags": []
   },
   "source": [
    "## Train Set"
   ]
  },
  {
   "cell_type": "code",
   "execution_count": 11,
   "id": "f04e2b10",
   "metadata": {
    "execution": {
     "iopub.execute_input": "2021-09-30T08:48:07.852219Z",
     "iopub.status.busy": "2021-09-30T08:48:07.836912Z",
     "iopub.status.idle": "2021-09-30T08:48:35.765212Z",
     "shell.execute_reply": "2021-09-30T08:48:35.764656Z",
     "shell.execute_reply.started": "2021-09-30T08:33:05.750941Z"
    },
    "id": "r0K1SkGZ6OCN",
    "papermill": {
     "duration": 27.970496,
     "end_time": "2021-09-30T08:48:35.765355",
     "exception": false,
     "start_time": "2021-09-30T08:48:07.794859",
     "status": "completed"
    },
    "tags": []
   },
   "outputs": [],
   "source": [
    "encoded_tweets_train = tokenizer.texts_to_sequences(train[:, 0])\n",
    "pad_en_tweets_train = pad_sequences(encoded_tweets_train)\n",
    "max_features = len(tokenizer.word_index) + 1\n",
    "train_labels = np.asarray(train[:, 1]).astype('int32')"
   ]
  },
  {
   "cell_type": "markdown",
   "id": "ba5216be",
   "metadata": {
    "papermill": {
     "duration": 0.031537,
     "end_time": "2021-09-30T08:48:35.827479",
     "exception": false,
     "start_time": "2021-09-30T08:48:35.795942",
     "status": "completed"
    },
    "tags": []
   },
   "source": [
    "## Validation Set"
   ]
  },
  {
   "cell_type": "code",
   "execution_count": 12,
   "id": "fccadd35",
   "metadata": {
    "execution": {
     "iopub.execute_input": "2021-09-30T08:48:35.920671Z",
     "iopub.status.busy": "2021-09-30T08:48:35.910437Z",
     "iopub.status.idle": "2021-09-30T08:48:47.261877Z",
     "shell.execute_reply": "2021-09-30T08:48:47.260959Z",
     "shell.execute_reply.started": "2021-09-30T08:33:32.480698Z"
    },
    "papermill": {
     "duration": 11.404025,
     "end_time": "2021-09-30T08:48:47.262028",
     "exception": false,
     "start_time": "2021-09-30T08:48:35.858003",
     "status": "completed"
    },
    "tags": []
   },
   "outputs": [],
   "source": [
    "encoded_tweets_val = tokenizer.texts_to_sequences(val[:, 0])\n",
    "pad_en_tweets_val = pad_sequences(encoded_tweets_val)\n",
    "val_labels = np.asarray(val[:, 1]).astype('int32')"
   ]
  },
  {
   "cell_type": "markdown",
   "id": "64d0c4c5",
   "metadata": {
    "papermill": {
     "duration": 0.030595,
     "end_time": "2021-09-30T08:48:47.323370",
     "exception": false,
     "start_time": "2021-09-30T08:48:47.292775",
     "status": "completed"
    },
    "tags": []
   },
   "source": [
    "# Training"
   ]
  },
  {
   "cell_type": "markdown",
   "id": "c70af192",
   "metadata": {
    "id": "yl9Zh0Kq6OCO",
    "papermill": {
     "duration": 0.029514,
     "end_time": "2021-09-30T08:48:47.383707",
     "exception": false,
     "start_time": "2021-09-30T08:48:47.354193",
     "status": "completed"
    },
    "tags": []
   },
   "source": [
    "## Create Model"
   ]
  },
  {
   "cell_type": "code",
   "execution_count": 13,
   "id": "7ab151b5",
   "metadata": {
    "execution": {
     "iopub.execute_input": "2021-09-30T08:48:47.450058Z",
     "iopub.status.busy": "2021-09-30T08:48:47.449420Z",
     "iopub.status.idle": "2021-09-30T08:48:50.379773Z",
     "shell.execute_reply": "2021-09-30T08:48:50.380831Z",
     "shell.execute_reply.started": "2021-09-30T08:33:43.638705Z"
    },
    "id": "3vx-rgjz6OCP",
    "outputId": "664deffe-b5cb-4326-867f-af156fd424fe",
    "papermill": {
     "duration": 2.967429,
     "end_time": "2021-09-30T08:48:50.381035",
     "exception": false,
     "start_time": "2021-09-30T08:48:47.413606",
     "status": "completed"
    },
    "tags": []
   },
   "outputs": [
    {
     "name": "stdout",
     "output_type": "stream",
     "text": [
      "Model: \"sequential\"\n",
      "_________________________________________________________________\n",
      "Layer (type)                 Output Shape              Param #   \n",
      "=================================================================\n",
      "embedding (Embedding)        (None, 98, 64)            30358784  \n",
      "_________________________________________________________________\n",
      "bidirectional (Bidirectional (None, 256)               197632    \n",
      "_________________________________________________________________\n",
      "dropout (Dropout)            (None, 256)               0         \n",
      "_________________________________________________________________\n",
      "batch_normalization (BatchNo (None, 256)               1024      \n",
      "_________________________________________________________________\n",
      "dense (Dense)                (None, 1)                 257       \n",
      "=================================================================\n",
      "Total params: 30,557,697\n",
      "Trainable params: 30,557,185\n",
      "Non-trainable params: 512\n",
      "_________________________________________________________________\n"
     ]
    }
   ],
   "source": [
    "embedding_vector_length = 64\n",
    "\n",
    "model = Sequential(\n",
    "    [\n",
    "        layers.Embedding(max_features, embedding_vector_length, input_length=pad_en_tweets_train.shape[1]),\n",
    "        layers.Bidirectional(layers.LSTM(128)),\n",
    "        layers.Dropout(0.5),\n",
    "        layers.BatchNormalization(),\n",
    "        layers.Dense(1, activation='sigmoid'),\n",
    "    ]\n",
    ")\n",
    "model.compile(optimizer='adam', loss='binary_crossentropy', metrics=[tf.keras.metrics.AUC()])\n",
    "model.summary()"
   ]
  },
  {
   "cell_type": "code",
   "execution_count": 14,
   "id": "484740c5",
   "metadata": {
    "execution": {
     "iopub.execute_input": "2021-09-30T08:48:50.495244Z",
     "iopub.status.busy": "2021-09-30T08:48:50.494374Z",
     "iopub.status.idle": "2021-09-30T08:48:51.014003Z",
     "shell.execute_reply": "2021-09-30T08:48:51.015116Z",
     "shell.execute_reply.started": "2021-09-30T08:33:46.438316Z"
    },
    "id": "-uMYMko06OCP",
    "outputId": "e0f85d96-ab24-48b6-e1aa-0cefce505a4c",
    "papermill": {
     "duration": 0.579648,
     "end_time": "2021-09-30T08:48:51.015324",
     "exception": false,
     "start_time": "2021-09-30T08:48:50.435676",
     "status": "completed"
    },
    "tags": []
   },
   "outputs": [
    {
     "data": {
      "image/png": "[encoded data removed]",
      "text/plain": [
       "<IPython.core.display.Image object>"
      ]
     },
     "execution_count": 14,
     "metadata": {},
     "output_type": "execute_result"
    }
   ],
   "source": [
    "keras.utils.plot_model(model, show_shapes=True, dpi=48)"
   ]
  },
  {
   "cell_type": "markdown",
   "id": "dc649162",
   "metadata": {
    "papermill": {
     "duration": 0.053023,
     "end_time": "2021-09-30T08:48:51.121094",
     "exception": false,
     "start_time": "2021-09-30T08:48:51.068071",
     "status": "completed"
    },
    "tags": []
   },
   "source": [
    "## Fit Model"
   ]
  },
  {
   "cell_type": "code",
   "execution_count": 15,
   "id": "92e5689b",
   "metadata": {
    "execution": {
     "iopub.execute_input": "2021-09-30T08:48:51.566809Z",
     "iopub.status.busy": "2021-09-30T08:48:51.566056Z",
     "iopub.status.idle": "2021-09-30T08:58:04.441362Z",
     "shell.execute_reply": "2021-09-30T08:58:04.441856Z",
     "shell.execute_reply.started": "2021-09-30T08:33:46.842224Z"
    },
    "id": "RoquNrEs6OCQ",
    "outputId": "990b193f-2427-404a-dab8-3d42abe8423f",
    "papermill": {
     "duration": 553.268497,
     "end_time": "2021-09-30T08:58:04.442053",
     "exception": false,
     "start_time": "2021-09-30T08:48:51.173556",
     "status": "completed"
    },
    "tags": []
   },
   "outputs": [
    {
     "name": "stdout",
     "output_type": "stream",
     "text": [
      "Epoch 1/5\n",
      "140/140 [==============================] - 123s 776ms/step - loss: 0.5329 - auc: 0.7967 - val_loss: 0.6459 - val_auc: 0.8816\n",
      "Epoch 2/5\n",
      "140/140 [==============================] - 108s 769ms/step - loss: 0.3792 - auc: 0.9115 - val_loss: 0.5739 - val_auc: 0.8815\n",
      "Epoch 3/5\n",
      "140/140 [==============================] - 107s 765ms/step - loss: 0.3029 - auc: 0.9437 - val_loss: 0.4879 - val_auc: 0.8749\n",
      "Epoch 4/5\n",
      "140/140 [==============================] - 108s 768ms/step - loss: 0.2524 - auc: 0.9609 - val_loss: 0.4520 - val_auc: 0.8731\n",
      "Epoch 5/5\n",
      "140/140 [==============================] - 107s 768ms/step - loss: 0.2198 - auc: 0.9703 - val_loss: 0.5066 - val_auc: 0.8680\n"
     ]
    },
    {
     "data": {
      "text/plain": [
       "<tensorflow.python.keras.callbacks.History at 0x7f805c701490>"
      ]
     },
     "execution_count": 15,
     "metadata": {},
     "output_type": "execute_result"
    }
   ],
   "source": [
    "epochs = 5\n",
    "batch_size = 8000\n",
    "X = tf.convert_to_tensor(pad_en_tweets_train)\n",
    "Y = tf.cast(train_labels.reshape(-1, 1), tf.int32)\n",
    "history = model.fit(pad_en_tweets_train, train_labels, batch_size=batch_size, epochs=epochs, validation_data=(pad_en_tweets_val, val_labels))\n",
    "history"
   ]
  },
  {
   "cell_type": "markdown",
   "id": "466f0f83",
   "metadata": {
    "papermill": {
     "duration": 0.335159,
     "end_time": "2021-09-30T08:58:04.990690",
     "exception": false,
     "start_time": "2021-09-30T08:58:04.655531",
     "status": "completed"
    },
    "tags": []
   },
   "source": [
    "## Visualize Training"
   ]
  },
  {
   "cell_type": "markdown",
   "id": "fc021dc7",
   "metadata": {
    "papermill": {
     "duration": 0.216569,
     "end_time": "2021-09-30T08:58:05.548913",
     "exception": false,
     "start_time": "2021-09-30T08:58:05.332344",
     "status": "completed"
    },
    "tags": []
   },
   "source": [
    "### Plot Loss"
   ]
  },
  {
   "cell_type": "code",
   "execution_count": 16,
   "id": "ca2b3860",
   "metadata": {
    "execution": {
     "iopub.execute_input": "2021-09-30T08:58:05.999542Z",
     "iopub.status.busy": "2021-09-30T08:58:05.998659Z",
     "iopub.status.idle": "2021-09-30T08:58:06.136367Z",
     "shell.execute_reply": "2021-09-30T08:58:06.136813Z",
     "shell.execute_reply.started": "2021-09-30T08:40:34.459755Z"
    },
    "papermill": {
     "duration": 0.372652,
     "end_time": "2021-09-30T08:58:06.136966",
     "exception": false,
     "start_time": "2021-09-30T08:58:05.764314",
     "status": "completed"
    },
    "tags": []
   },
   "outputs": [
    {
     "data": {
      "image/png": "[encoded data removed]",
      "text/plain": [
       "<Figure size 432x288 with 1 Axes>"
      ]
     },
     "metadata": {
      "needs_background": "light"
     },
     "output_type": "display_data"
    }
   ],
   "source": [
    "plt.plot(history.history['loss'])\n",
    "plt.plot(history.history['val_loss'])\n",
    "plt.title('Losses')\n",
    "plt.legend(['Training Loss', 'Validation Loss'])\n",
    "plt.show()"
   ]
  },
  {
   "cell_type": "markdown",
   "id": "2d38becd",
   "metadata": {
    "papermill": {
     "duration": 0.219571,
     "end_time": "2021-09-30T08:58:06.574944",
     "exception": false,
     "start_time": "2021-09-30T08:58:06.355373",
     "status": "completed"
    },
    "tags": []
   },
   "source": [
    "### Plot AUC ROC"
   ]
  },
  {
   "cell_type": "code",
   "execution_count": 17,
   "id": "60c53fb4",
   "metadata": {
    "execution": {
     "iopub.execute_input": "2021-09-30T08:58:07.092031Z",
     "iopub.status.busy": "2021-09-30T08:58:07.072628Z",
     "iopub.status.idle": "2021-09-30T08:58:07.217902Z",
     "shell.execute_reply": "2021-09-30T08:58:07.218332Z",
     "shell.execute_reply.started": "2021-09-30T08:40:34.732235Z"
    },
    "papermill": {
     "duration": 0.378223,
     "end_time": "2021-09-30T08:58:07.218478",
     "exception": false,
     "start_time": "2021-09-30T08:58:06.840255",
     "status": "completed"
    },
    "tags": []
   },
   "outputs": [
    {
     "data": {
      "image/png": "[encoded data removed]",
      "text/plain": [
       "<Figure size 432x288 with 1 Axes>"
      ]
     },
     "metadata": {
      "needs_background": "light"
     },
     "output_type": "display_data"
    }
   ],
   "source": [
    "plt.plot(history.history['auc'])\n",
    "plt.plot(history.history['val_auc'])\n",
    "plt.title('AUC ROC')\n",
    "plt.legend(['Training AUC', 'Validation AUC'])\n",
    "plt.show()"
   ]
  },
  {
   "cell_type": "markdown",
   "id": "9cf590c8",
   "metadata": {
    "papermill": {
     "duration": 0.279307,
     "end_time": "2021-09-30T08:58:07.719920",
     "exception": false,
     "start_time": "2021-09-30T08:58:07.440613",
     "status": "completed"
    },
    "tags": []
   },
   "source": [
    "# Save Model"
   ]
  },
  {
   "cell_type": "code",
   "execution_count": 18,
   "id": "c38f035b",
   "metadata": {
    "execution": {
     "iopub.execute_input": "2021-09-30T08:58:08.460141Z",
     "iopub.status.busy": "2021-09-30T08:58:08.459300Z",
     "iopub.status.idle": "2021-09-30T08:58:19.864519Z",
     "shell.execute_reply": "2021-09-30T08:58:19.863410Z",
     "shell.execute_reply.started": "2021-09-30T08:45:34.018858Z"
    },
    "papermill": {
     "duration": 11.784879,
     "end_time": "2021-09-30T08:58:19.864657",
     "exception": false,
     "start_time": "2021-09-30T08:58:08.079778",
     "status": "completed"
    },
    "tags": []
   },
   "outputs": [],
   "source": [
    "model.save('Sentiment')\n",
    "with open('history.pickle', 'wb') as output_file:\n",
    "    pickle.dump(history.history, output_file)"
   ]
  },
  {
   "cell_type": "markdown",
   "id": "79535b8f",
   "metadata": {
    "papermill": {
     "duration": 0.235577,
     "end_time": "2021-09-30T08:58:20.324033",
     "exception": false,
     "start_time": "2021-09-30T08:58:20.088456",
     "status": "completed"
    },
    "tags": []
   },
   "source": [
    "## Zip Model For Easy Download"
   ]
  },
  {
   "cell_type": "code",
   "execution_count": 19,
   "id": "dc655c0b",
   "metadata": {
    "execution": {
     "iopub.execute_input": "2021-09-30T08:58:20.784337Z",
     "iopub.status.busy": "2021-09-30T08:58:20.783320Z",
     "iopub.status.idle": "2021-09-30T08:58:39.166195Z",
     "shell.execute_reply": "2021-09-30T08:58:39.164969Z",
     "shell.execute_reply.started": "2021-09-30T08:41:15.814770Z"
    },
    "papermill": {
     "duration": 18.619334,
     "end_time": "2021-09-30T08:58:39.166332",
     "exception": false,
     "start_time": "2021-09-30T08:58:20.546998",
     "status": "completed"
    },
    "tags": []
   },
   "outputs": [
    {
     "name": "stdout",
     "output_type": "stream",
     "text": [
      "  adding: Sentiment/ (stored 0%)\r\n",
      "  adding: Sentiment/variables/ (stored 0%)\r\n",
      "  adding: Sentiment/variables/variables.data-00000-of-00001 (deflated 6%)\r\n",
      "  adding: Sentiment/variables/variables.index (deflated 66%)\r\n",
      "  adding: Sentiment/assets/ (stored 0%)\r\n",
      "  adding: Sentiment/saved_model.pb (deflated 90%)\r\n"
     ]
    }
   ],
   "source": [
    "!zip -r sentiment.zip Sentiment"
   ]
  },
  {
   "cell_type": "markdown",
   "id": "d64f3f65",
   "metadata": {
    "papermill": {
     "duration": 0.217163,
     "end_time": "2021-09-30T08:58:39.603198",
     "exception": false,
     "start_time": "2021-09-30T08:58:39.386035",
     "status": "completed"
    },
    "tags": []
   },
   "source": [
    "# Testing"
   ]
  },
  {
   "cell_type": "code",
   "execution_count": 20,
   "id": "34fb9562",
   "metadata": {
    "execution": {
     "iopub.execute_input": "2021-09-30T08:58:40.050425Z",
     "iopub.status.busy": "2021-09-30T08:58:40.049301Z",
     "iopub.status.idle": "2021-09-30T08:59:35.454700Z",
     "shell.execute_reply": "2021-09-30T08:59:35.455181Z",
     "shell.execute_reply.started": "2021-09-30T08:41:33.609570Z"
    },
    "papermill": {
     "duration": 55.634873,
     "end_time": "2021-09-30T08:59:35.455362",
     "exception": false,
     "start_time": "2021-09-30T08:58:39.820489",
     "status": "completed"
    },
    "tags": []
   },
   "outputs": [
    {
     "data": {
      "text/html": [
       "<div>\n",
       "<style scoped>\n",
       "    .dataframe tbody tr th:only-of-type {\n",
       "        vertical-align: middle;\n",
       "    }\n",
       "\n",
       "    .dataframe tbody tr th {\n",
       "        vertical-align: top;\n",
       "    }\n",
       "\n",
       "    .dataframe thead th {\n",
       "        text-align: right;\n",
       "    }\n",
       "</style>\n",
       "<table border=\"1\" class=\"dataframe\">\n",
       "  <thead>\n",
       "    <tr style=\"text-align: right;\">\n",
       "      <th></th>\n",
       "      <th>tweet</th>\n",
       "      <th>true</th>\n",
       "      <th>preds</th>\n",
       "    </tr>\n",
       "  </thead>\n",
       "  <tbody>\n",
       "    <tr>\n",
       "      <th>0</th>\n",
       "      <td>fannywu Here is a shoulder Keep it Rose loves ...</td>\n",
       "      <td>1</td>\n",
       "      <td>1.0</td>\n",
       "    </tr>\n",
       "    <tr>\n",
       "      <th>1</th>\n",
       "      <td>movie night on saturdaaaaaaay think the best f...</td>\n",
       "      <td>1</td>\n",
       "      <td>1.0</td>\n",
       "    </tr>\n",
       "    <tr>\n",
       "      <th>2</th>\n",
       "      <td>dmariev</td>\n",
       "      <td>1</td>\n",
       "      <td>1.0</td>\n",
       "    </tr>\n",
       "    <tr>\n",
       "      <th>3</th>\n",
       "      <td>looking at designs for garden office got a nic...</td>\n",
       "      <td>1</td>\n",
       "      <td>1.0</td>\n",
       "    </tr>\n",
       "    <tr>\n",
       "      <th>4</th>\n",
       "      <td>careyshair that s insane Too bad I just bought...</td>\n",
       "      <td>0</td>\n",
       "      <td>0.0</td>\n",
       "    </tr>\n",
       "    <tr>\n",
       "      <th>...</th>\n",
       "      <td>...</td>\n",
       "      <td>...</td>\n",
       "      <td>...</td>\n",
       "    </tr>\n",
       "    <tr>\n",
       "      <th>479995</th>\n",
       "      <td>brittanynichole 3 for students 5 for adults</td>\n",
       "      <td>1</td>\n",
       "      <td>1.0</td>\n",
       "    </tr>\n",
       "    <tr>\n",
       "      <th>479996</th>\n",
       "      <td>kcvikander haha i had no idea what you were re...</td>\n",
       "      <td>0</td>\n",
       "      <td>0.0</td>\n",
       "    </tr>\n",
       "    <tr>\n",
       "      <th>479997</th>\n",
       "      <td>UPS doesn t pick up on Saturday s Still gettin...</td>\n",
       "      <td>1</td>\n",
       "      <td>0.0</td>\n",
       "    </tr>\n",
       "    <tr>\n",
       "      <th>479998</th>\n",
       "      <td>tired i would love to see metro station todaay...</td>\n",
       "      <td>0</td>\n",
       "      <td>0.0</td>\n",
       "    </tr>\n",
       "    <tr>\n",
       "      <th>479999</th>\n",
       "      <td>r0per16 Swakcalmm dog trains us they make us g...</td>\n",
       "      <td>1</td>\n",
       "      <td>0.0</td>\n",
       "    </tr>\n",
       "  </tbody>\n",
       "</table>\n",
       "<p>480000 rows × 3 columns</p>\n",
       "</div>"
      ],
      "text/plain": [
       "                                                    tweet  true  preds\n",
       "0       fannywu Here is a shoulder Keep it Rose loves ...     1    1.0\n",
       "1       movie night on saturdaaaaaaay think the best f...     1    1.0\n",
       "2                                                dmariev      1    1.0\n",
       "3       looking at designs for garden office got a nic...     1    1.0\n",
       "4       careyshair that s insane Too bad I just bought...     0    0.0\n",
       "...                                                   ...   ...    ...\n",
       "479995       brittanynichole 3 for students 5 for adults      1    1.0\n",
       "479996  kcvikander haha i had no idea what you were re...     0    0.0\n",
       "479997  UPS doesn t pick up on Saturday s Still gettin...     1    0.0\n",
       "479998  tired i would love to see metro station todaay...     0    0.0\n",
       "479999  r0per16 Swakcalmm dog trains us they make us g...     1    0.0\n",
       "\n",
       "[480000 rows x 3 columns]"
      ]
     },
     "execution_count": 20,
     "metadata": {},
     "output_type": "execute_result"
    }
   ],
   "source": [
    "model = tf.keras.models.load_model('Sentiment')\n",
    "preds = model.predict(pad_en_tweets_val)\n",
    "dframe = pd.DataFrame()\n",
    "dframe['tweet'] = val[:, 0]\n",
    "dframe['true'] = val_labels\n",
    "dframe['preds'] = np.round(preds)\n",
    "dframe"
   ]
  }
 ],
 "metadata": {
  "kernelspec": {
   "display_name": "Python 3",
   "language": "python",
   "name": "python3"
  },
  "language_info": {
   "codemirror_mode": {
    "name": "ipython",
    "version": 3
   },
   "file_extension": ".py",
   "mimetype": "text/x-python",
   "name": "python",
   "nbconvert_exporter": "python",
   "pygments_lexer": "ipython3",
   "version": "3.7.10"
  },
  "papermill": {
   "default_parameters": {},
   "duration": 785.050162,
   "end_time": "2021-09-30T08:59:38.646548",
   "environment_variables": {},
   "exception": null,
   "input_path": "__notebook__.ipynb",
   "output_path": "__notebook__.ipynb",
   "parameters": {},
   "start_time": "2021-09-30T08:46:33.596386",
   "version": "2.3.3"
  }
 },
 "nbformat": 4,
 "nbformat_minor": 5
}
